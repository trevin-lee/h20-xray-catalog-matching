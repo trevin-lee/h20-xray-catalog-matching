{
 "cells": [
  {
   "cell_type": "markdown",
   "metadata": {},
   "source": [
    "# Notebook #2"
   ]
  },
  {
   "cell_type": "markdown",
   "metadata": {},
   "source": [
    "## Dataset Preprocessing Notebook\n",
    "\n",
    "Opens the fits files using data_loader and filter the dataset using the catalog standardizer, then Saves the cleaned datasets in gzip files"
   ]
  },
  {
   "cell_type": "markdown",
   "metadata": {},
   "source": [
    "### Import Statements and Load config.yaml file"
   ]
  },
  {
   "cell_type": "code",
   "execution_count": 1,
   "metadata": {},
   "outputs": [],
   "source": [
    "import sys\n",
    "sys.path.append(\"./utils\")\n",
    "\n",
    "import pandas             as pd\n",
    "import numpy              as np\n",
    "import matplotlib.pyplot  as plt\n",
    "\n",
    "from catalog_standardizer import CatalogStandardizer\n",
    "from config_loader        import ConfigLoader\n",
    "from data_loader          import DataLoader"
   ]
  },
  {
   "cell_type": "code",
   "execution_count": 2,
   "metadata": {},
   "outputs": [
    {
     "name": "stderr",
     "output_type": "stream",
     "text": [
      "WARNING: VerifyWarning: Invalid keyword for column 25: ASCII table null option (TNULLn) is longer than the column's character width and will be truncated (got '-32768'). [astropy.io.fits.column]\n",
      "WARNING: VerifyWarning: Invalid keyword for column 38: ASCII table null option (TNULLn) is longer than the column's character width and will be truncated (got '-32768'). [astropy.io.fits.column]\n",
      "WARNING: VerifyWarning: Invalid keyword for column 40: ASCII table null option (TNULLn) is longer than the column's character width and will be truncated (got '-32768'). [astropy.io.fits.column]\n",
      "WARNING: VerifyWarning: Invalid keyword for column 41: ASCII table null option (TNULLn) is longer than the column's character width and will be truncated (got '-32768'). [astropy.io.fits.column]\n",
      "WARNING: VerifyWarning: Invalid keyword for column 42: ASCII table null option (TNULLn) is longer than the column's character width and will be truncated (got '-32768'). [astropy.io.fits.column]\n",
      "WARNING: VerifyWarning: Invalid keyword for column 43: ASCII table null option (TNULLn) is longer than the column's character width and will be truncated (got '-32768'). [astropy.io.fits.column]\n"
     ]
    }
   ],
   "source": [
    "config = ConfigLoader(\"/Users/trevin/Documents/Git/h20_xray_catalog_matching/src/configs/config.yaml\")\n",
    "data = DataLoader(verbose=0)\n",
    "\n",
    "plt.rcParams['font.family'] = 'sans-serif'\n",
    "plt.rcParams['font.sans-serif'] = ['Verdana']\n",
    "plt.rcParams['axes.titleweight'] = 'bold'\n",
    "plt.rcParams['axes.labelpad'] = 20\n",
    "plt.rcParams['axes.titlepad'] = 20\n",
    "plt.rcParams['font.size'] = 16\n",
    "plt.rcParams['axes.labelsize'] = 16\n",
    "plt.rcParams['axes.labelweight'] = 'bold'\n",
    "plt.rcParams['xtick.labelsize'] = 16\n",
    "plt.rcParams['ytick.labelsize'] = 16\n",
    "plt.rcParams['axes.titlesize'] = 20\n",
    "plt.rcParams['axes.titleweight'] = 'bold'\n",
    "plt.rcParams['legend.fontsize'] = 16\n",
    "\n",
    "\n",
    "df_erosita = data.get_dataframe(config.EROSITA_PATH)\n",
    "df_edff = data.get_dataframe(config.EDFF_PATH)\n",
    "df_cdfs = data.get_dataframe(config.CDFS_PATH)"
   ]
  },
  {
   "cell_type": "markdown",
   "metadata": {},
   "source": [
    "## Catalog Standardization\n",
    "\n",
    "Filter the eROSITA dataset so that only the objects in the edff regions are included"
   ]
  },
  {
   "cell_type": "code",
   "execution_count": 3,
   "metadata": {},
   "outputs": [],
   "source": [
    "eROSITA_standardizer = CatalogStandardizer(\n",
    "    df_erosita['RA'],\n",
    "    df_erosita['DEC'],\n",
    "    df_erosita[\"POS_ERR\"],\n",
    "    df_erosita[\"POS_ERR\"],\n",
    "    df_erosita[\"ML_FLUX_1\"],\n",
    ")\n",
    "\n",
    "edff_standardizer = CatalogStandardizer(\n",
    "    df_edff['ALPHA_J2000'],\n",
    "    df_edff['DELTA_J2000'],\n",
    "    df_edff['ERRX_MODEL'],\n",
    "    df_edff['ERRY_MODEL'],\n",
    "    df_edff['CFHT_u_MAG'],\n",
    ")\n",
    "\n",
    "cdfs_standardizer = CatalogStandardizer(\n",
    "    df_cdfs['RAJ2000'],\n",
    "    df_cdfs['DEJ2000'],\n",
    "    df_cdfs['errPos'],\n",
    "    df_cdfs['errPos'],\n",
    "    df_cdfs['FB'],\n",
    ")   \n",
    "\n",
    "edff_standardized = edff_standardizer.standardize()\n",
    "erosita_standardized = eROSITA_standardizer.standardize()\n",
    "cdfs_standardized = cdfs_standardizer.standardize()\n",
    "\n",
    "min_RA = max(edff_standardized['ra'].min(), erosita_standardized['ra'].min())\n",
    "max_RA = min(edff_standardized['ra'].max(), erosita_standardized['ra'].max())\n",
    "min_DEC = max(edff_standardized['dec'].min(), erosita_standardized['dec'].min())\n",
    "max_DEC = min(edff_standardized['dec'].max(), erosita_standardized['dec'].max())\n",
    "\n",
    "edff_standardized = edff_standardized[\n",
    "    (edff_standardized['ra'] >= min_RA) & (edff_standardized['ra'] <= max_RA) &\n",
    "    (edff_standardized['dec'] >= min_DEC) & (edff_standardized['dec'] <= max_DEC)\n",
    "].reset_index(drop=True)\n",
    "\n",
    "erosita_standardized = erosita_standardized[\n",
    "    (erosita_standardized['ra'] >= min_RA) & (erosita_standardized['ra'] <= max_RA) &\n",
    "    (erosita_standardized['dec'] >= min_DEC) & (erosita_standardized['dec'] <= max_DEC)\n",
    "].reset_index(drop=True)"
   ]
  },
  {
   "cell_type": "code",
   "execution_count": 4,
   "metadata": {},
   "outputs": [],
   "source": [
    "erosita_standardized.to_csv(f\"{config.INPUT_CATALOG_PATH}/erosita_LYR.csv\", sep=\",\", index=False)\n",
    "cdfs_standardized.to_csv(f\"{config.INPUT_CATALOG_PATH}/cdfs_LYR.csv\", sep=\",\", index=False)\n",
    "edff_standardized.to_csv(f\"{config.INPUT_CATALOG_PATH}/edff_LYR.csv\", sep=\",\", index=False)"
   ]
  }
 ],
 "metadata": {
  "kernelspec": {
   "display_name": "agn",
   "language": "python",
   "name": "python3"
  },
  "language_info": {
   "codemirror_mode": {
    "name": "ipython",
    "version": 3
   },
   "file_extension": ".py",
   "mimetype": "text/x-python",
   "name": "python",
   "nbconvert_exporter": "python",
   "pygments_lexer": "ipython3",
   "version": "3.12.2"
  }
 },
 "nbformat": 4,
 "nbformat_minor": 2
}
